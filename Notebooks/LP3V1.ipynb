version https://git-lfs.github.com/spec/v1
oid sha256:4379db07ea957c1e38fab9b7d1be7b64182cb46e99bd2c0b1f4aca51ed7c23ed
size 2615703
