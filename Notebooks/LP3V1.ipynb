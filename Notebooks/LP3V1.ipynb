version https://git-lfs.github.com/spec/v1
oid sha256:25e0677c5eb936d05677852cd50b645a222c96e19e2029e992c493fbc25f056f
size 1754236
